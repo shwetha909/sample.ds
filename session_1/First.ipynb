{
  "nbformat": 4,
  "nbformat_minor": 0,
  "metadata": {
    "colab": {
      "name": "First.ipynb",
      "provenance": [],
      "collapsed_sections": [],
      "authorship_tag": "ABX9TyPuvZL3p9Y7KFWLYnm9I3L2",
      "include_colab_link": true
    },
    "kernelspec": {
      "name": "python3",
      "display_name": "Python 3"
    }
  },
  "cells": [
    {
      "cell_type": "markdown",
      "metadata": {
        "id": "view-in-github",
        "colab_type": "text"
      },
      "source": [
        "<a href=\"https://colab.research.google.com/github/shwetha909/sample.ds/blob/master/session_1/First.ipynb\" target=\"_parent\"><img src=\"https://colab.research.google.com/assets/colab-badge.svg\" alt=\"Open In Colab\"/></a>"
      ]
    },
    {
      "cell_type": "code",
      "metadata": {
        "id": "DGFy4yDH_5Fh",
        "colab_type": "code",
        "colab": {}
      },
      "source": [
        ""
      ],
      "execution_count": 0,
      "outputs": []
    },
    {
      "cell_type": "markdown",
      "metadata": {
        "id": "vnsmQlv9Afve",
        "colab_type": "text"
      },
      "source": [
        "Thisis *heading*\n",
        "this is sub-heading\n",
        "*italicized text*"
      ]
    },
    {
      "cell_type": "markdown",
      "metadata": {
        "id": "J3Tag1W0BhE4",
        "colab_type": "text"
      },
      "source": [
        "- [x] task1\n",
        "- [ ] task2\n",
        "\n"
      ]
    },
    {
      "cell_type": "code",
      "metadata": {
        "id": "MMsMToKbAPXb",
        "colab_type": "code",
        "colab": {
          "base_uri": "https://localhost:8080/",
          "height": 187
        },
        "outputId": "831b3de7-1e89-45ee-cb68-5ea93d298783"
      },
      "source": [
        "for i in range(10):\n",
        "  print(i)\n",
        "  "
      ],
      "execution_count": 1,
      "outputs": [
        {
          "output_type": "stream",
          "text": [
            "0\n",
            "1\n",
            "2\n",
            "3\n",
            "4\n",
            "5\n",
            "6\n",
            "7\n",
            "8\n",
            "9\n"
          ],
          "name": "stdout"
        }
      ]
    },
    {
      "cell_type": "markdown",
      "metadata": {
        "id": "L0avTAGWAfhS",
        "colab_type": "text"
      },
      "source": [
        ""
      ]
    },
    {
      "cell_type": "markdown",
      "metadata": {
        "id": "4yHjKssPAmeg",
        "colab_type": "text"
      },
      "source": [
        ""
      ]
    }
  ]
}